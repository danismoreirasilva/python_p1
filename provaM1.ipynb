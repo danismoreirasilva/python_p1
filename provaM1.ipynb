{
  "nbformat": 4,
  "nbformat_minor": 0,
  "metadata": {
    "colab": {
      "provenance": []
    },
    "kernelspec": {
      "name": "python3",
      "display_name": "Python 3"
    },
    "language_info": {
      "name": "python"
    }
  },
  "cells": [
    {
      "cell_type": "markdown",
      "source": [
        "#Questão 1"
      ],
      "metadata": {
        "id": "l--eLpfc0QiQ"
      }
    },
    {
      "cell_type": "code",
      "execution_count": null,
      "metadata": {
        "id": "L18XrlBTqK1W"
      },
      "outputs": [],
      "source": [
        "opcao = 0\n",
        "while opcao < 1 or opcao > 5:\n",
        "  print('Escolha uma das opções disponíveis abaixo:\\n(1)Soma\\n(2)Subtração')\n",
        "  print('(3)Multiplicação')\n",
        "  print('(4)Divisão')\n",
        "  print('(5)Sair')\n",
        "  opcao = int(input('Sua escolha é: '))\n",
        "  if not(1 <= opcao <= 5):\n",
        "    print('Você digitou uma opção inválida.')\n",
        "\n",
        "if opcao == 5:\n",
        "  print('Você saiu do programa!')\n",
        "else:\n",
        "  num1 = float(input('Digite o primeiro valor: '))\n",
        "  num2 = float(input('Digite o segundo valor: '))\n",
        "\n",
        "  if opcao == 1:\n",
        "    operador = '+'\n",
        "    resultado = num1 + num2\n",
        "  elif opcao == 2:\n",
        "    operador = '-'\n",
        "    resultado = num1 - num2\n",
        "  elif opcao == 3:\n",
        "    operador = '*'\n",
        "    resultado = num1 * num2\n",
        "  elif opcao == 4:\n",
        "    operador = '/'\n",
        "    while num2==0:\n",
        "      print('O segundo valor não pode ser zero.')\n",
        "      num2 = float(input('Digite novamente o segundo valor: '))\n",
        "    resultado = num1 / num2\n",
        "\n",
        "  print(f'{num1} {operador} {num2} = {resultado:.2f}')"
      ]
    },
    {
      "cell_type": "markdown",
      "source": [
        "#Questão 2"
      ],
      "metadata": {
        "id": "F-ilgV3x0Tdt"
      }
    },
    {
      "cell_type": "code",
      "source": [
        "a = 0\n",
        "\n",
        "print('Equação Quadrática')\n",
        "while a==0:\n",
        "  a = float(input('Digite o valor de a: '))\n",
        "\n",
        "b = float(input('Digite o valor de b: '))\n",
        "c = float(input('Digite o valor de c: '))\n",
        "\n",
        "delta = b**2 - 4*a*c\n",
        "\n",
        "if delta < 0:\n",
        "  print(f'Não há raizes reais.')\n",
        "elif delta == 0:\n",
        "  x = -b / (2*a)\n",
        "  print(f'Há apenas uma raiz real. \\nO valor da raiz é {x:.2f}.')\n",
        "else:\n",
        "  x1 = (-b + (delta**(1/2)))/ (2*a)\n",
        "  x2 = (-b - (delta**(1/2)))/ (2*a)\n",
        "  print(f'Há duas raízes. \\nO valor da raiz1 é {x1:.2f} e raiz2 é {x2:.2f}.')"
      ],
      "metadata": {
        "id": "ocGGumVqxdsw"
      },
      "execution_count": null,
      "outputs": []
    },
    {
      "cell_type": "markdown",
      "source": [
        "#Questão 3"
      ],
      "metadata": {
        "id": "aBsEp-jb0Xb3"
      }
    },
    {
      "cell_type": "code",
      "source": [
        "qtd = 0\n",
        "while qtd==0:\n",
        "  qtd = int(input('Digite a quantidade de cópias: '))\n",
        "\n",
        "preco = 24.95 * qtd * 0.6\n",
        "custoTotal = preco + 3 + (qtd-1)*0.75\n",
        "\n",
        "print(f'O custo total é de R$ {custoTotal:.2f}')"
      ],
      "metadata": {
        "id": "xLu9QIUT0Z6O"
      },
      "execution_count": null,
      "outputs": []
    }
  ]
}